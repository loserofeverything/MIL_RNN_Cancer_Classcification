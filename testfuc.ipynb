{
 "cells": [
  {
   "cell_type": "code",
   "execution_count": 1,
   "metadata": {},
   "outputs": [
    {
     "name": "stdout",
     "output_type": "stream",
     "text": [
      "1067\n",
      "{'0', '6', '2', '5', '3', '1', '4'}\n",
      "Train: 745 Val: 213 Test: 109\n"
     ]
    }
   ],
   "source": [
    "import glob\n",
    "import numpy as np\n",
    "import time\n",
    "\n",
    "# 获取所有的文件\n",
    "RA_files = glob.glob('/xiongjun/test/MIL/data/0.9_RA/*/*.csv')\n",
    "print(len(RA_files))\n",
    "\n",
    "# 获取所有的标签\n",
    "labels = set([file.split('/')[-2] for file in RA_files])\n",
    "print(labels)\n",
    "\n",
    "# 初始化训练集、验证集和测试集\n",
    "train_files = []\n",
    "val_files = []\n",
    "test_files = []\n",
    "\n",
    "# 对每个标签，随机分配文件到训练集、验证集和测试集\n",
    "for label in labels:\n",
    "    label_files = [file for file in RA_files if file.split('/')[-2] == label]\n",
    "    np.random.shuffle(label_files)\n",
    "    n = len(label_files)\n",
    "    train_files += label_files[:int(n * 0.7)]\n",
    "    val_files += label_files[int(n * 0.7):int(n * 0.9)]\n",
    "    test_files += label_files[int(n * 0.9):]\n",
    "\n",
    "print(f\"Train: {len(train_files)} Val: {len(val_files)} Test: {len(test_files)}\")"
   ]
  },
  {
   "cell_type": "code",
   "execution_count": 2,
   "metadata": {},
   "outputs": [],
   "source": [
    "import pandas as pd\n",
    "import concurrent.futures\n",
    "\n",
    "def read_file(file):\n",
    "    return pd.read_csv(file)\n",
    "\n",
    "def read_files2(fileslist):\n",
    "    # 使用进程池来并行读取文件\n",
    "    with concurrent.futures.ProcessPoolExecutor() as executor:\n",
    "        dfs = list(executor.map(read_file, fileslist))\n",
    "\n",
    "    # 合并所有的DataFrame\n",
    "    if not dfs:\n",
    "        return pd.DataFrame()\n",
    "    result = pd.concat(dfs, ignore_index=True)\n",
    "    return result\n",
    "\n",
    "def read_files1(fileslist):\n",
    "    # 初始化一个空的DataFrame列表\n",
    "    dfs = []\n",
    "    # 读取每个文件并添加到列表中\n",
    "    for file in fileslist:\n",
    "        df = pd.read_csv(file)\n",
    "        dfs.append(df)\n",
    "\n",
    "    # 合并所有的DataFrame\n",
    "    if not dfs:\n",
    "        return pd.DataFrame()\n",
    "    result = pd.concat(dfs, ignore_index=True)\n",
    "    return result"
   ]
  },
  {
   "cell_type": "code",
   "execution_count": 3,
   "metadata": {},
   "outputs": [],
   "source": [
    "start_time = time.time()\n",
    "result1 = read_files1(test_files)\n",
    "end_time = time.time()\n",
    "runtime1 = end_time - start_time\n",
    "\n",
    "start_time = time.time()\n",
    "result2 = read_files2(test_files)\n",
    "end_time = time.time()\n",
    "runtime2 = end_time- start_time\n"
   ]
  },
  {
   "cell_type": "code",
   "execution_count": 4,
   "metadata": {},
   "outputs": [],
   "source": [
    "is_equal = result1.equals(result2)"
   ]
  },
  {
   "cell_type": "code",
   "execution_count": 5,
   "metadata": {},
   "outputs": [],
   "source": [
    "import ast\n",
    "import multiprocessing"
   ]
  },
  {
   "cell_type": "code",
   "execution_count": 6,
   "metadata": {},
   "outputs": [],
   "source": [
    "def process_data(data):\n",
    "    return data.apply(ast.literal_eval)\n",
    "\n",
    "def parallelize_dataframe(df, func, n_cores):\n",
    "    df_split = np.array_split(df, n_cores)\n",
    "    pool = multiprocessing.Pool(n_cores)\n",
    "    df = pd.concat(pool.map(func, df_split))\n",
    "    pool.close()\n",
    "    pool.join()\n",
    "    return df"
   ]
  },
  {
   "cell_type": "code",
   "execution_count": null,
   "metadata": {},
   "outputs": [],
   "source": [
    "start_time = time.time()\n",
    "result1['data'] = result1['data'].map(ast.literal_eval)\n",
    "end_time = time.time()\n",
    "runtime3 = end_time - start_time\n",
    "\n",
    "start_time = time.time()\n",
    "result2['data'] = result2['data'].apply(eval)\n",
    "end_time = time.time()\n",
    "runtim4 = end_time - start_time"
   ]
  },
  {
   "cell_type": "code",
   "execution_count": 8,
   "metadata": {},
   "outputs": [],
   "source": [
    "result3 = read_files2(test_files)\n",
    "start_time = time.time()\n",
    "result3['data'] = parallelize_dataframe(result3['data'], \\\n",
    "            process_data,multiprocessing.cpu_count())\n",
    "end_time = time.time()\n",
    "runtim5 = end_time - start_time"
   ]
  },
  {
   "cell_type": "code",
   "execution_count": null,
   "metadata": {},
   "outputs": [],
   "source": [
    "import concurrent.futures\n",
    "result4 = read_files2(test_files)\n",
    "def process_data(data):\n",
    "    return eval(data)\n",
    "\n",
    "start_time = time.time()\n",
    "with concurrent.futures.ThreadPoolExecutor() as executor:\n",
    "    result4['data'] = list(executor.map(process_data, result4['data']))\n",
    "end_time = time.time()\n",
    "runtim6 = end_time - start_time"
   ]
  },
  {
   "cell_type": "code",
   "execution_count": 5,
   "metadata": {},
   "outputs": [
    {
     "data": {
      "text/plain": [
       "0.17363059099999997"
      ]
     },
     "execution_count": 5,
     "metadata": {},
     "output_type": "execute_result"
    }
   ],
   "source": [
    "import pandas as pd\n",
    "\n",
    "\n",
    "column_names = [\"aaSeqCDR3\", \"cloneFraction\", \"sth1\", \"sample\"]\n",
    "# 读取CSV文件\n",
    "raw_data = pd.read_csv(\"/xiongjun/test/MIL/data/healthy/emerson_healthy_train.csv\", names=column_names)\n",
    "# 假设你的DataFrame对象的名称为df\n",
    "total = raw_data[raw_data['sample'] == 'HIP19717']['cloneFraction'].sum()\n",
    "total"
   ]
  },
  {
   "cell_type": "code",
   "execution_count": 6,
   "metadata": {},
   "outputs": [
    {
     "data": {
      "text/html": [
       "<div>\n",
       "<style scoped>\n",
       "    .dataframe tbody tr th:only-of-type {\n",
       "        vertical-align: middle;\n",
       "    }\n",
       "\n",
       "    .dataframe tbody tr th {\n",
       "        vertical-align: top;\n",
       "    }\n",
       "\n",
       "    .dataframe thead th {\n",
       "        text-align: right;\n",
       "    }\n",
       "</style>\n",
       "<table border=\"1\" class=\"dataframe\">\n",
       "  <thead>\n",
       "    <tr style=\"text-align: right;\">\n",
       "      <th></th>\n",
       "      <th>aaSeqCDR3</th>\n",
       "      <th>cloneFraction</th>\n",
       "      <th>sth1</th>\n",
       "      <th>sample</th>\n",
       "    </tr>\n",
       "  </thead>\n",
       "  <tbody>\n",
       "    <tr>\n",
       "      <th>0</th>\n",
       "      <td>CATTGTSGGPSQSTQYF</td>\n",
       "      <td>0.013719</td>\n",
       "      <td>1</td>\n",
       "      <td>HIP00110</td>\n",
       "    </tr>\n",
       "    <tr>\n",
       "      <th>1</th>\n",
       "      <td>CASSLRVGGYGYTF</td>\n",
       "      <td>0.013587</td>\n",
       "      <td>2</td>\n",
       "      <td>HIP00110</td>\n",
       "    </tr>\n",
       "    <tr>\n",
       "      <th>2</th>\n",
       "      <td>CASRRLGGLNTEAFF</td>\n",
       "      <td>0.007683</td>\n",
       "      <td>3</td>\n",
       "      <td>HIP00110</td>\n",
       "    </tr>\n",
       "    <tr>\n",
       "      <th>3</th>\n",
       "      <td>CASSLRGSGNTIYF</td>\n",
       "      <td>0.004399</td>\n",
       "      <td>4</td>\n",
       "      <td>HIP00110</td>\n",
       "    </tr>\n",
       "    <tr>\n",
       "      <th>4</th>\n",
       "      <td>CASRQDGSTEAFF</td>\n",
       "      <td>0.003996</td>\n",
       "      <td>5</td>\n",
       "      <td>HIP00110</td>\n",
       "    </tr>\n",
       "    <tr>\n",
       "      <th>5</th>\n",
       "      <td>CASSRARVFGNYGYTF</td>\n",
       "      <td>0.003134</td>\n",
       "      <td>6</td>\n",
       "      <td>HIP00110</td>\n",
       "    </tr>\n",
       "    <tr>\n",
       "      <th>6</th>\n",
       "      <td>CASSQADNQPQHF</td>\n",
       "      <td>0.002864</td>\n",
       "      <td>7</td>\n",
       "      <td>HIP00110</td>\n",
       "    </tr>\n",
       "    <tr>\n",
       "      <th>7</th>\n",
       "      <td>CASSKTGTSGSDTQYF</td>\n",
       "      <td>0.002660</td>\n",
       "      <td>8</td>\n",
       "      <td>HIP00110</td>\n",
       "    </tr>\n",
       "    <tr>\n",
       "      <th>8</th>\n",
       "      <td>CASSESGQPTGELFF</td>\n",
       "      <td>0.002221</td>\n",
       "      <td>9</td>\n",
       "      <td>HIP00110</td>\n",
       "    </tr>\n",
       "    <tr>\n",
       "      <th>9</th>\n",
       "      <td>CASSVALMPGNSPLHF</td>\n",
       "      <td>0.002094</td>\n",
       "      <td>10</td>\n",
       "      <td>HIP00110</td>\n",
       "    </tr>\n",
       "  </tbody>\n",
       "</table>\n",
       "</div>"
      ],
      "text/plain": [
       "           aaSeqCDR3  cloneFraction  sth1    sample\n",
       "0  CATTGTSGGPSQSTQYF       0.013719     1  HIP00110\n",
       "1     CASSLRVGGYGYTF       0.013587     2  HIP00110\n",
       "2    CASRRLGGLNTEAFF       0.007683     3  HIP00110\n",
       "3     CASSLRGSGNTIYF       0.004399     4  HIP00110\n",
       "4      CASRQDGSTEAFF       0.003996     5  HIP00110\n",
       "5   CASSRARVFGNYGYTF       0.003134     6  HIP00110\n",
       "6      CASSQADNQPQHF       0.002864     7  HIP00110\n",
       "7   CASSKTGTSGSDTQYF       0.002660     8  HIP00110\n",
       "8    CASSESGQPTGELFF       0.002221     9  HIP00110\n",
       "9   CASSVALMPGNSPLHF       0.002094    10  HIP00110"
      ]
     },
     "execution_count": 6,
     "metadata": {},
     "output_type": "execute_result"
    }
   ],
   "source": [
    "raw_data.head(10)"
   ]
  },
  {
   "cell_type": "code",
   "execution_count": 2,
   "metadata": {},
   "outputs": [
    {
     "data": {
      "text/plain": [
       "array([0.80000001, 0.40000001, 0.5       , 0.98000002])"
      ]
     },
     "execution_count": 2,
     "metadata": {},
     "output_type": "execute_result"
    }
   ],
   "source": [
    "\n",
    "import numpy as np\n",
    "import torch\n",
    "\n",
    "\n",
    "def group_max(groups, data, nmax):\n",
    "    out = np.empty(nmax)\n",
    "    out[:] = np.nan\n",
    "    order = np.lexsort((data, groups))\n",
    "    groups = groups[order]\n",
    "    data = data[order]\n",
    "    index = np.empty(len(groups), 'bool')\n",
    "    index[-1] = True\n",
    "    index[:-1] = groups[1:] != groups[:-1]\n",
    "    out[groups[index]] = data[index]\n",
    "    return out\n",
    "\n",
    "def group_argtopk(groups, data,k=1):\n",
    "    order = np.lexsort((data, groups))\n",
    "    groups = groups[order]\n",
    "    data = data[order]\n",
    "    index = np.empty(len(groups), 'bool')\n",
    "    index[-k:] = True\n",
    "    index[:-k] = groups[k:] != groups[:-k]\n",
    "    return list(order[index])\n",
    "\n",
    "\n",
    "probs = torch.FloatTensor([0.8,0.7,0.2,0.4,0.5,0.1,0.98,0.4])\n",
    "slideIDX = [0,0,1,1,2,2,3,3]\n",
    "topk = group_max(np.array(slideIDX), probs, 4)\n",
    "topk"
   ]
  },
  {
   "cell_type": "code",
   "execution_count": null,
   "metadata": {},
   "outputs": [],
   "source": [
    "import pandas as pd\n",
    "\n",
    "data = pd.read_csv('/xiongjun/test/MIL/data/0.9_RA/0/H2001A008_RA_stats.csv')\n",
    "\n",
    "# 根据\"数量\"列进行降序排序\n",
    "data_sorted = data.sort_values(by='RA_4mer', ascending=False)\n",
    "\n",
    "# 获取前10行\n",
    "top_10 = data_sorted.head(10)\n",
    "\n",
    "# 打印\"名称\"和\"数量\"列\n",
    "for index, row in top_10.iterrows():\n",
    "    print(f\"4_mer: {row['4-mer']}, 4_mer_RA: {row['RA_4mer']}\")\n",
    "import pandas as pd\n",
    "import numpy as np\n",
    "\n",
    "# 创建示例数据\n",
    "data = {\n",
    "    '4-mer-1': ['ACGT', 'TGCA', 'CGAT', np.nan],\n",
    "    '4-mer-2': ['ATCG', 'GGTC', 'CTAG', 'TCGA'],\n",
    "    '4-mer-3': ['CGTA', 'ACGT', np.nan, 'TGCA'],\n",
    "    '4-mer-4': ['GCTA', 'TCGA', 'ATCG', 'CGAT'],\n",
    "    'cloneFraction': [0.8, 0.6, 0.9, 0.7]\n",
    "}\n",
    "\n",
    "# 创建DataFrame\n",
    "data_filtered = pd.DataFrame(data)\n",
    "\n",
    "# 显示DataFrame\n",
    "print(data_filtered)\n"
   ]
  },
  {
   "cell_type": "code",
   "execution_count": 2,
   "metadata": {},
   "outputs": [
    {
     "data": {
      "text/html": [
       "<div>\n",
       "<style scoped>\n",
       "    .dataframe tbody tr th:only-of-type {\n",
       "        vertical-align: middle;\n",
       "    }\n",
       "\n",
       "    .dataframe tbody tr th {\n",
       "        vertical-align: top;\n",
       "    }\n",
       "\n",
       "    .dataframe thead th {\n",
       "        text-align: right;\n",
       "    }\n",
       "</style>\n",
       "<table border=\"1\" class=\"dataframe\">\n",
       "  <thead>\n",
       "    <tr style=\"text-align: right;\">\n",
       "      <th></th>\n",
       "      <th>4-mer</th>\n",
       "      <th>RA</th>\n",
       "    </tr>\n",
       "  </thead>\n",
       "  <tbody>\n",
       "    <tr>\n",
       "      <th>0</th>\n",
       "      <td>ACGT</td>\n",
       "      <td>0.8</td>\n",
       "    </tr>\n",
       "    <tr>\n",
       "      <th>1</th>\n",
       "      <td>ATCG</td>\n",
       "      <td>0.9</td>\n",
       "    </tr>\n",
       "    <tr>\n",
       "      <th>2</th>\n",
       "      <td>CGAT</td>\n",
       "      <td>0.9</td>\n",
       "    </tr>\n",
       "    <tr>\n",
       "      <th>3</th>\n",
       "      <td>CGTA</td>\n",
       "      <td>0.8</td>\n",
       "    </tr>\n",
       "    <tr>\n",
       "      <th>4</th>\n",
       "      <td>CTAG</td>\n",
       "      <td>0.9</td>\n",
       "    </tr>\n",
       "    <tr>\n",
       "      <th>5</th>\n",
       "      <td>GCTA</td>\n",
       "      <td>0.8</td>\n",
       "    </tr>\n",
       "    <tr>\n",
       "      <th>6</th>\n",
       "      <td>GGTC</td>\n",
       "      <td>0.6</td>\n",
       "    </tr>\n",
       "    <tr>\n",
       "      <th>7</th>\n",
       "      <td>TCGA</td>\n",
       "      <td>0.7</td>\n",
       "    </tr>\n",
       "    <tr>\n",
       "      <th>8</th>\n",
       "      <td>TGCA</td>\n",
       "      <td>0.7</td>\n",
       "    </tr>\n",
       "  </tbody>\n",
       "</table>\n",
       "</div>"
      ],
      "text/plain": [
       "  4-mer   RA\n",
       "0  ACGT  0.8\n",
       "1  ATCG  0.9\n",
       "2  CGAT  0.9\n",
       "3  CGTA  0.8\n",
       "4  CTAG  0.9\n",
       "5  GCTA  0.8\n",
       "6  GGTC  0.6\n",
       "7  TCGA  0.7\n",
       "8  TGCA  0.7"
      ]
     },
     "execution_count": 2,
     "metadata": {},
     "output_type": "execute_result"
    }
   ],
   "source": [
    "# 初始化一个字典来存储每种4-mer序列的相对丰度值\n",
    "# 找到所有的 '4-mer' 列\n",
    "four_mer_columns = data_filtered.filter(regex='4-mer')\n",
    "\n",
    "# 将 '4-mer' 列和 'ratio' 列合并\n",
    "df_melted = pd.melt(data_filtered, id_vars='cloneFraction', value_vars=four_mer_columns.columns, var_name='4-mer_col', value_name='4-mer')\n",
    "# 删除4-mer列中的NaN值\n",
    "df_melted = df_melted.dropna(subset=['4-mer'])\n",
    "# 计算每种4-mer的最大ratio值\n",
    "TCR_RA_stats = df_melted.groupby('4-mer')['cloneFraction'].max().reset_index()\n",
    "TCR_RA_stats.columns = ['4-mer', 'RA']\n",
    "TCR_RA_stats.head(10)"
   ]
  },
  {
   "cell_type": "code",
   "execution_count": 3,
   "metadata": {},
   "outputs": [
    {
     "data": {
      "text/html": [
       "<div>\n",
       "<style scoped>\n",
       "    .dataframe tbody tr th:only-of-type {\n",
       "        vertical-align: middle;\n",
       "    }\n",
       "\n",
       "    .dataframe tbody tr th {\n",
       "        vertical-align: top;\n",
       "    }\n",
       "\n",
       "    .dataframe thead th {\n",
       "        text-align: right;\n",
       "    }\n",
       "</style>\n",
       "<table border=\"1\" class=\"dataframe\">\n",
       "  <thead>\n",
       "    <tr style=\"text-align: right;\">\n",
       "      <th></th>\n",
       "      <th>4-mer</th>\n",
       "      <th>RA</th>\n",
       "    </tr>\n",
       "  </thead>\n",
       "  <tbody>\n",
       "    <tr>\n",
       "      <th>0</th>\n",
       "      <td>ACGT</td>\n",
       "      <td>0.134615</td>\n",
       "    </tr>\n",
       "    <tr>\n",
       "      <th>1</th>\n",
       "      <td>ATCG</td>\n",
       "      <td>0.163462</td>\n",
       "    </tr>\n",
       "    <tr>\n",
       "      <th>2</th>\n",
       "      <td>CGTA</td>\n",
       "      <td>0.076923</td>\n",
       "    </tr>\n",
       "    <tr>\n",
       "      <th>3</th>\n",
       "      <td>GCTA</td>\n",
       "      <td>0.076923</td>\n",
       "    </tr>\n",
       "    <tr>\n",
       "      <th>4</th>\n",
       "      <td>TGCA</td>\n",
       "      <td>0.125000</td>\n",
       "    </tr>\n",
       "    <tr>\n",
       "      <th>5</th>\n",
       "      <td>GGTC</td>\n",
       "      <td>0.057692</td>\n",
       "    </tr>\n",
       "    <tr>\n",
       "      <th>6</th>\n",
       "      <td>TCGA</td>\n",
       "      <td>0.125000</td>\n",
       "    </tr>\n",
       "    <tr>\n",
       "      <th>7</th>\n",
       "      <td>CGAT</td>\n",
       "      <td>0.153846</td>\n",
       "    </tr>\n",
       "    <tr>\n",
       "      <th>8</th>\n",
       "      <td>CTAG</td>\n",
       "      <td>0.086538</td>\n",
       "    </tr>\n",
       "  </tbody>\n",
       "</table>\n",
       "</div>"
      ],
      "text/plain": [
       "  4-mer        RA\n",
       "0  ACGT  0.134615\n",
       "1  ATCG  0.163462\n",
       "2  CGTA  0.076923\n",
       "3  GCTA  0.076923\n",
       "4  TGCA  0.125000\n",
       "5  GGTC  0.057692\n",
       "6  TCGA  0.125000\n",
       "7  CGAT  0.153846\n",
       "8  CTAG  0.086538"
      ]
     },
     "execution_count": 3,
     "metadata": {},
     "output_type": "execute_result"
    }
   ],
   "source": [
    "relative_abundance = {}\n",
    "\n",
    "# 遍历每一行数据\n",
    "for index, row in data_filtered.iterrows():\n",
    "    # 遍历除了最后一列（cloneFraction）以外的所有列\n",
    "    for col in four_mer_columns.columns:\n",
    "        # 如果该列的值不是NaN，则将其相对丰度值累加到相应的键中\n",
    "        if not pd.isna(row[col]):\n",
    "            # 使用setdefault方法来初始化字典中键的默认值为0，然后累加cloneFraction值\n",
    "            relative_abundance.setdefault(row[col], 0)\n",
    "            relative_abundance[row[col]] += row['cloneFraction']\n",
    "\n",
    "\n",
    "\n",
    "_4mer_RA_stats = pd.DataFrame(list(relative_abundance.items()), columns=['4-mer', 'RA'])\n",
    "sumra = _4mer_RA_stats['RA'].sum()\n",
    "_4mer_RA_stats['RA'] = _4mer_RA_stats['RA'] / sumra\n",
    "_4mer_RA_stats.head(10)"
   ]
  },
  {
   "cell_type": "code",
   "execution_count": null,
   "metadata": {},
   "outputs": [],
   "source": []
  },
  {
   "cell_type": "code",
   "execution_count": 4,
   "metadata": {},
   "outputs": [
    {
     "data": {
      "text/html": [
       "<div>\n",
       "<style scoped>\n",
       "    .dataframe tbody tr th:only-of-type {\n",
       "        vertical-align: middle;\n",
       "    }\n",
       "\n",
       "    .dataframe tbody tr th {\n",
       "        vertical-align: top;\n",
       "    }\n",
       "\n",
       "    .dataframe thead th {\n",
       "        text-align: right;\n",
       "    }\n",
       "</style>\n",
       "<table border=\"1\" class=\"dataframe\">\n",
       "  <thead>\n",
       "    <tr style=\"text-align: right;\">\n",
       "      <th></th>\n",
       "      <th>4-mer</th>\n",
       "      <th>RA_4mer</th>\n",
       "      <th>RA_TCR</th>\n",
       "    </tr>\n",
       "  </thead>\n",
       "  <tbody>\n",
       "    <tr>\n",
       "      <th>0</th>\n",
       "      <td>ACGT</td>\n",
       "      <td>0.134615</td>\n",
       "      <td>0.8</td>\n",
       "    </tr>\n",
       "    <tr>\n",
       "      <th>1</th>\n",
       "      <td>ATCG</td>\n",
       "      <td>0.163462</td>\n",
       "      <td>0.9</td>\n",
       "    </tr>\n",
       "    <tr>\n",
       "      <th>2</th>\n",
       "      <td>CGTA</td>\n",
       "      <td>0.076923</td>\n",
       "      <td>0.8</td>\n",
       "    </tr>\n",
       "    <tr>\n",
       "      <th>3</th>\n",
       "      <td>GCTA</td>\n",
       "      <td>0.076923</td>\n",
       "      <td>0.8</td>\n",
       "    </tr>\n",
       "    <tr>\n",
       "      <th>4</th>\n",
       "      <td>TGCA</td>\n",
       "      <td>0.125000</td>\n",
       "      <td>0.7</td>\n",
       "    </tr>\n",
       "    <tr>\n",
       "      <th>5</th>\n",
       "      <td>GGTC</td>\n",
       "      <td>0.057692</td>\n",
       "      <td>0.6</td>\n",
       "    </tr>\n",
       "    <tr>\n",
       "      <th>6</th>\n",
       "      <td>TCGA</td>\n",
       "      <td>0.125000</td>\n",
       "      <td>0.7</td>\n",
       "    </tr>\n",
       "    <tr>\n",
       "      <th>7</th>\n",
       "      <td>CGAT</td>\n",
       "      <td>0.153846</td>\n",
       "      <td>0.9</td>\n",
       "    </tr>\n",
       "    <tr>\n",
       "      <th>8</th>\n",
       "      <td>CTAG</td>\n",
       "      <td>0.086538</td>\n",
       "      <td>0.9</td>\n",
       "    </tr>\n",
       "  </tbody>\n",
       "</table>\n",
       "</div>"
      ],
      "text/plain": [
       "  4-mer   RA_4mer  RA_TCR\n",
       "0  ACGT  0.134615     0.8\n",
       "1  ATCG  0.163462     0.9\n",
       "2  CGTA  0.076923     0.8\n",
       "3  GCTA  0.076923     0.8\n",
       "4  TGCA  0.125000     0.7\n",
       "5  GGTC  0.057692     0.6\n",
       "6  TCGA  0.125000     0.7\n",
       "7  CGAT  0.153846     0.9\n",
       "8  CTAG  0.086538     0.9"
      ]
     },
     "execution_count": 4,
     "metadata": {},
     "output_type": "execute_result"
    }
   ],
   "source": [
    "RA_stats = _4mer_RA_stats.merge(TCR_RA_stats, on='4-mer', suffixes=('_4mer', '_TCR'))\n",
    "RA_stats.head(10)"
   ]
  },
  {
   "cell_type": "code",
   "execution_count": null,
   "metadata": {},
   "outputs": [
    {
     "data": {
      "text/plain": [
       "{'0', '1', '2', '3', '4', '5', '6'}"
      ]
     },
     "metadata": {},
     "output_type": "display_data"
    }
   ],
   "source": [
    "import glob\n",
    "RA_path = \"/xiongjun/test/MIL/data/1_zz_RA/*/*.csv\"\n",
    "RA_files = glob.glob(RA_path)\n",
    "labels = set([file.split('/')[-2] for file in RA_files])\n",
    "labels"
   ]
  },
  {
   "cell_type": "code",
   "execution_count": 3,
   "metadata": {},
   "outputs": [],
   "source": [
    "flattened_df = flatten_data(df, 4)\n",
    "C_values = flattened_df.groupby('4-mer')['cloneFraction'].sum().reset_index()\\\n",
    "    .set_index('4-mer')['cloneFraction'].squeeze()"
   ]
  },
  {
   "cell_type": "code",
   "execution_count": 5,
   "metadata": {},
   "outputs": [
    {
     "data": {
      "text/plain": [
       "{'0', '1', '2', '3', '4', '5', '6'}"
      ]
     },
     "execution_count": 5,
     "metadata": {},
     "output_type": "execute_result"
    }
   ],
   "source": [
    "import glob\n",
    "RA_path = \"/xiongjun/test/MIL/data/1_zz_RA/*/*.csv\"\n",
    "RA_files = glob.glob(RA_path)\n",
    "labels = set([file.split('/')[-2] for file in RA_files])\n",
    "labels"
   ]
  },
  {
   "cell_type": "code",
   "execution_count": 2,
   "metadata": {},
   "outputs": [
    {
     "name": "stdout",
     "output_type": "stream",
     "text": [
      "Accuracy: 0.8\n"
     ]
    },
    {
     "data": {
      "image/png": "[encoded data removed]",
      "text/plain": [
       "<Figure size 432x288 with 1 Axes>"
      ]
     },
     "metadata": {
      "needs_background": "light"
     },
     "output_type": "display_data"
    }
   ],
   "source": [
    "from sklearn.metrics import roc_curve, auc\n",
    "import matplotlib.pyplot as plt\n",
    "from sklearn.preprocessing import label_binarize\n",
    "import numpy as np\n",
    "import torch\n",
    "\n",
    "# 假设你有以下的真实标签和预测概率\n",
    "labels = torch.tensor([0, 1, 2, 2, 1])  # 真实标签\n",
    "output = torch.tensor([[0.8, 0.1, 0.1], [0.1, 0.8, 0.1], [0.2, 0.2, 0.6], [0.1, 0.2, 0.7], [0.9, 0.05, 0.05]])  # 预测概率\n",
    "\n",
    "_, predicted = torch.max(output, 1)\n",
    "correct = torch.eq(predicted, labels).sum().item()\n",
    "total = labels.size(0)\n",
    "accuracy = correct / total\n",
    "print(\"Accuracy:\", accuracy)\n",
    "\n",
    "# 绘制ROC曲线\n",
    "y_test = label_binarize(labels.numpy(), classes=[0, 1, 2])\n",
    "y_score = output.detach().numpy()\n",
    "\n",
    "fpr = dict()\n",
    "tpr = dict()\n",
    "roc_auc = dict()\n",
    "for i in range(3):\n",
    "    fpr[i], tpr[i], _ = roc_curve(y_test[:, i], y_score[:, i])\n",
    "    roc_auc[i] = auc(fpr[i], tpr[i])\n",
    "\n",
    "for i, color in zip(range(3), ['aqua', 'darkorange', 'cornflowerblue']):\n",
    "    plt.plot(fpr[i], tpr[i], color=color, lw=2,\n",
    "             label='ROC curve of class {0} (area = {1:0.2f})'\n",
    "             ''.format(i, roc_auc[i]))\n",
    "\n",
    "plt.plot([0, 1], [0, 1], 'k--', lw=2)\n",
    "plt.xlim([0.0, 1.0])\n",
    "plt.ylim([0.0, 1.05])\n",
    "plt.xlabel('False Positive Rate')\n",
    "plt.ylabel('True Positive Rate')\n",
    "plt.title('Receiver Operating Characteristic to Multi-Class')\n",
    "plt.legend(loc=\"lower right\")\n",
    "plt.show()\n"
   ]
  },
  {
   "cell_type": "code",
   "execution_count": 3,
   "metadata": {},
   "outputs": [],
   "source": [
    "dfs = []\n",
    "if  dfs:\n",
    "    print(\"a\")"
   ]
  },
  {
   "cell_type": "code",
   "execution_count": 3,
   "metadata": {},
   "outputs": [
    {
     "name": "stdout",
     "output_type": "stream",
     "text": [
      "torch.Size([14])\n"
     ]
    }
   ],
   "source": [
    "import torch\n",
    "\n",
    "# 假设你有以下的张量列表\n",
    "tensors = [torch.randn(n, ) for n in [4, 3, 5, 2]]\n",
    "\n",
    "# 使用torch.cat将它们堆叠起来\n",
    "result = torch.cat(tensors, dim=0)\n",
    "\n",
    "print(result.shape)  # 输出：torch.Size([14, 7])"
   ]
  },
  {
   "cell_type": "code",
   "execution_count": 5,
   "metadata": {},
   "outputs": [
    {
     "name": "stdout",
     "output_type": "stream",
     "text": [
      "[[-0.591, -1.302, -0.733, 1.57, -0.146], [-1.343, 0.465, -0.862, -1.02, -0.255], [1.05, 0.302, -3.656, -0.259, -3.242], [1.357, -1.453, 1.477, 0.113, -0.837], [-1.006, -0.59, 1.891, -0.397, 0.412], [-0.384, 1.652, 1.33, 1.045, 2.064], [0.336, -0.417, -1.673, -1.474, -0.078], [-1.239, -0.547, 2.131, 0.393, 0.816], [1.831, -0.561, 0.533, -0.277, 1.648], [-1.019, -0.987, -1.505, 1.266, -0.912], [-0.663, -1.524, 2.219, -1.005, 1.212], [0.945, 0.828, 1.299, -0.169, 0.933], [0.189, 2.081, -1.628, 0.421, -1.392], [0.931, -0.179, -3.005, -0.503, -1.853], [1.538, -0.055, 1.502, 0.44, 2.897], [-0.228, 1.399, -4.76, 0.67, -2.647], [-0.032, 0.326, 2.213, 0.908, 1.313], [-1.337, -0.279, -0.544, 1.242, -1.262], [-0.595, 0.009, 0.672, -2.128, -0.184], [0.26, 0.83, 3.097, -0.838, 1.512]]\n"
     ]
    }
   ],
   "source": [
    "import numpy as np\n",
    "import pandas as pd\n",
    "\n",
    "# 定义数据\n",
    "data = \"A,-0.591,-1.302,-0.733,1.570,-0.146;C,-1.343,0.465,-0.862,-1.020,-0.255;D,1.050,0.302,-3.656,-0.259,-3.242;E,1.357,-1.453,1.477,0.113,-0.837;F,-1.006,-0.590,1.891,-0.397,0.412;G,-0.384,1.652,1.330,1.045,2.064;H,0.336,-0.417,-1.673,-1.474,-0.078;I,-1.239,-0.547,2.131,0.393,0.816;K,1.831,-0.561,0.533,-0.277,1.648;L,-1.019,-0.987,-1.505,1.266,-0.912;M,-0.663,-1.524,2.219,-1.005,1.212;N,0.945,0.828,1.299,-0.169,0.933;P,0.189,2.081,-1.628,0.421,-1.392;Q,0.931,-0.179,-3.005,-0.503,-1.853;R,1.538,-0.055,1.502,0.440,2.897;S,-0.228,1.399,-4.760,0.670,-2.647;T,-0.032,0.326,2.213,0.908,1.313;V,-1.337,-0.279,-0.544,1.242,-1.262;W,-0.595,0.009,0.672,-2.128,-0.184;Y,0.260,0.830,3.097,-0.838,1.512\"\n",
    "\n",
    "# 将数据分割成列表\n",
    "data_list = [item.split(',') for item in data.split(';')]\n",
    "\n",
    "# 创建DataFrame\n",
    "atchley = pd.DataFrame(data_list, columns=[\"amino.acid\", \"f1\", \"f2\", \"f3\", \"f4\", \"f5\"])\n",
    "\n",
    "# 将f1-f5列转换为数值类型\n",
    "atchley[[\"f1\", \"f2\", \"f3\", \"f4\", \"f5\"]] = atchley[[\"f1\", \"f2\", \"f3\", \"f4\", \"f5\"]].apply(pd.to_numeric)\n",
    "\n",
    "# 将amino.acid列设置为索引\n",
    "atchley.set_index(\"amino.acid\", inplace=True)\n",
    "# 创建映射表\n",
    "features_dict = {row[0]: list(row[1:]) for row in atchley.itertuples()}\n",
    "\n",
    "# 定义优化后的函数\n",
    "def sequence_to_values_optimized(sequence):\n",
    "    return [features_dict[amino_acid] for amino_acid in sequence]\n",
    "\n",
    "# 测试函数\n",
    "sequence = \"ACDEFGHIKLMNPQRSTVWY\"\n",
    "result = sequence_to_values_optimized(sequence)\n",
    "print(result)"
   ]
  },
  {
   "cell_type": "code",
   "execution_count": 2,
   "metadata": {},
   "outputs": [
    {
     "data": {
      "text/html": [
       "<div>\n",
       "<style scoped>\n",
       "    .dataframe tbody tr th:only-of-type {\n",
       "        vertical-align: middle;\n",
       "    }\n",
       "\n",
       "    .dataframe tbody tr th {\n",
       "        vertical-align: top;\n",
       "    }\n",
       "\n",
       "    .dataframe thead th {\n",
       "        text-align: right;\n",
       "    }\n",
       "</style>\n",
       "<table border=\"1\" class=\"dataframe\">\n",
       "  <thead>\n",
       "    <tr style=\"text-align: right;\">\n",
       "      <th></th>\n",
       "      <th>A</th>\n",
       "      <th>B</th>\n",
       "      <th>key</th>\n",
       "    </tr>\n",
       "  </thead>\n",
       "  <tbody>\n",
       "    <tr>\n",
       "      <th>0</th>\n",
       "      <td>A0</td>\n",
       "      <td>B0</td>\n",
       "      <td>K0</td>\n",
       "    </tr>\n",
       "    <tr>\n",
       "      <th>1</th>\n",
       "      <td>A1</td>\n",
       "      <td>B1</td>\n",
       "      <td>K1</td>\n",
       "    </tr>\n",
       "    <tr>\n",
       "      <th>2</th>\n",
       "      <td>A2</td>\n",
       "      <td>B2</td>\n",
       "      <td>K2</td>\n",
       "    </tr>\n",
       "    <tr>\n",
       "      <th>3</th>\n",
       "      <td>A3</td>\n",
       "      <td>B3</td>\n",
       "      <td>K3</td>\n",
       "    </tr>\n",
       "  </tbody>\n",
       "</table>\n",
       "</div>"
      ],
      "text/plain": [
       "    A   B key\n",
       "0  A0  B0  K0\n",
       "1  A1  B1  K1\n",
       "2  A2  B2  K2\n",
       "3  A3  B3  K3"
      ]
     },
     "execution_count": 2,
     "metadata": {},
     "output_type": "execute_result"
    }
   ],
   "source": [
    "import torch\n",
    "import torch.nn.functional as F\n",
    "# 假设outputs是你的模型的输出，labels是真实的标签\n",
    "outputs = torch.randn(10, 4)  # 假设有10个样本，每个样本有4个类别\n",
    "labels = torch.randint(4, (10,))  # 假设有10个样本，每个样本的标签是0到3之间的一个整数\n",
    "\n",
    "# 使用softmax函数\n",
    "outputs = F.softmax(outputs, dim=1)\n",
    "\n",
    "# 使用argmax函数获取每个样本的预测标签\n",
    "_, predicted = torch.max(outputs, 1)\n",
    "\n",
    "# 使用eq函数比较预测标签和真实标签\n",
    "correct = (predicted == labels).sum().item()\n",
    "\n",
    "# 计算正确率\n",
    "accuracy = correct / labels.size(0)\n",
    "print(accuracy)"
   ]
  },
  {
   "cell_type": "code",
   "execution_count": 3,
   "metadata": {},
   "outputs": [
    {
     "data": {
      "text/html": [
       "<div>\n",
       "<style scoped>\n",
       "    .dataframe tbody tr th:only-of-type {\n",
       "        vertical-align: middle;\n",
       "    }\n",
       "\n",
       "    .dataframe tbody tr th {\n",
       "        vertical-align: top;\n",
       "    }\n",
       "\n",
       "    .dataframe thead th {\n",
       "        text-align: right;\n",
       "    }\n",
       "</style>\n",
       "<table border=\"1\" class=\"dataframe\">\n",
       "  <thead>\n",
       "    <tr style=\"text-align: right;\">\n",
       "      <th></th>\n",
       "      <th>C</th>\n",
       "      <th>D</th>\n",
       "      <th>key</th>\n",
       "    </tr>\n",
       "  </thead>\n",
       "  <tbody>\n",
       "    <tr>\n",
       "      <th>0</th>\n",
       "      <td>C0</td>\n",
       "      <td>D0</td>\n",
       "      <td>K0</td>\n",
       "    </tr>\n",
       "    <tr>\n",
       "      <th>1</th>\n",
       "      <td>C1</td>\n",
       "      <td>D1</td>\n",
       "      <td>K1</td>\n",
       "    </tr>\n",
       "    <tr>\n",
       "      <th>2</th>\n",
       "      <td>C2</td>\n",
       "      <td>D2</td>\n",
       "      <td>K2</td>\n",
       "    </tr>\n",
       "  </tbody>\n",
       "</table>\n",
       "</div>"
      ],
      "text/plain": [
       "    C   D key\n",
       "0  C0  D0  K0\n",
       "1  C1  D1  K1\n",
       "2  C2  D2  K2"
      ]
     },
     "execution_count": 3,
     "metadata": {},
     "output_type": "execute_result"
    }
   ],
   "source": [
    "# 创建第二个DataFrame\n",
    "df2 = pd.DataFrame({\n",
    "    'C': ['C0', 'C1', 'C2'],\n",
    "    'D': ['D0', 'D1', 'D2'],\n",
    "    'key': ['K0', 'K1', 'K2']\n",
    "})\n",
    "df2.head()"
   ]
  },
  {
   "cell_type": "code",
   "execution_count": 4,
   "metadata": {},
   "outputs": [
    {
     "data": {
      "text/html": [
       "<div>\n",
       "<style scoped>\n",
       "    .dataframe tbody tr th:only-of-type {\n",
       "        vertical-align: middle;\n",
       "    }\n",
       "\n",
       "    .dataframe tbody tr th {\n",
       "        vertical-align: top;\n",
       "    }\n",
       "\n",
       "    .dataframe thead th {\n",
       "        text-align: right;\n",
       "    }\n",
       "</style>\n",
       "<table border=\"1\" class=\"dataframe\">\n",
       "  <thead>\n",
       "    <tr style=\"text-align: right;\">\n",
       "      <th></th>\n",
       "      <th>A</th>\n",
       "      <th>B</th>\n",
       "      <th>key</th>\n",
       "      <th>C</th>\n",
       "      <th>D</th>\n",
       "    </tr>\n",
       "  </thead>\n",
       "  <tbody>\n",
       "    <tr>\n",
       "      <th>0</th>\n",
       "      <td>A0</td>\n",
       "      <td>B0</td>\n",
       "      <td>K0</td>\n",
       "      <td>C0</td>\n",
       "      <td>D0</td>\n",
       "    </tr>\n",
       "    <tr>\n",
       "      <th>1</th>\n",
       "      <td>A1</td>\n",
       "      <td>B1</td>\n",
       "      <td>K1</td>\n",
       "      <td>C1</td>\n",
       "      <td>D1</td>\n",
       "    </tr>\n",
       "    <tr>\n",
       "      <th>2</th>\n",
       "      <td>A2</td>\n",
       "      <td>B2</td>\n",
       "      <td>K2</td>\n",
       "      <td>C2</td>\n",
       "      <td>D2</td>\n",
       "    </tr>\n",
       "    <tr>\n",
       "      <th>3</th>\n",
       "      <td>A3</td>\n",
       "      <td>B3</td>\n",
       "      <td>K3</td>\n",
       "      <td>NaN</td>\n",
       "      <td>NaN</td>\n",
       "    </tr>\n",
       "  </tbody>\n",
       "</table>\n",
       "</div>"
      ],
      "text/plain": [
       "    A   B key    C    D\n",
       "0  A0  B0  K0   C0   D0\n",
       "1  A1  B1  K1   C1   D1\n",
       "2  A2  B2  K2   C2   D2\n",
       "3  A3  B3  K3  NaN  NaN"
      ]
     },
     "execution_count": 4,
     "metadata": {},
     "output_type": "execute_result"
    }
   ],
   "source": [
    "# 执行左连接\n",
    "result = pd.merge(df1, df2, on='key', how='left')\n",
    "result.head()"
   ]
  },
  {
   "cell_type": "code",
   "execution_count": 4,
   "metadata": {},
   "outputs": [
    {
     "data": {
      "text/html": [
       "<div>\n",
       "<style scoped>\n",
       "    .dataframe tbody tr th:only-of-type {\n",
       "        vertical-align: middle;\n",
       "    }\n",
       "\n",
       "    .dataframe tbody tr th {\n",
       "        vertical-align: top;\n",
       "    }\n",
       "\n",
       "    .dataframe thead th {\n",
       "        text-align: right;\n",
       "    }\n",
       "</style>\n",
       "<table border=\"1\" class=\"dataframe\">\n",
       "  <thead>\n",
       "    <tr style=\"text-align: right;\">\n",
       "      <th></th>\n",
       "      <th>data</th>\n",
       "      <th>RA_4mer</th>\n",
       "      <th>RA_TCR</th>\n",
       "      <th>4-mer</th>\n",
       "      <th>label</th>\n",
       "      <th>sample</th>\n",
       "    </tr>\n",
       "  </thead>\n",
       "  <tbody>\n",
       "    <tr>\n",
       "      <th>0</th>\n",
       "      <td>[[-0.338273286819458, -0.7951063513755798, -0....</td>\n",
       "      <td>[tensor(0.1137)]</td>\n",
       "      <td>[tensor(0.3226)]</td>\n",
       "      <td>name1</td>\n",
       "      <td>0</td>\n",
       "      <td>sample1</td>\n",
       "    </tr>\n",
       "    <tr>\n",
       "      <th>1</th>\n",
       "      <td>[[1.3016526699066162, 0.5786869525909424, 0.67...</td>\n",
       "      <td>[tensor(-0.6772)]</td>\n",
       "      <td>[tensor(-0.4265)]</td>\n",
       "      <td>name2</td>\n",
       "      <td>1</td>\n",
       "      <td>sample2</td>\n",
       "    </tr>\n",
       "    <tr>\n",
       "      <th>2</th>\n",
       "      <td>[[-0.8226626515388489, -0.6997305750846863, -2...</td>\n",
       "      <td>[tensor(0.7432)]</td>\n",
       "      <td>[tensor(-0.3827)]</td>\n",
       "      <td>name3</td>\n",
       "      <td>2</td>\n",
       "      <td>sample3</td>\n",
       "    </tr>\n",
       "  </tbody>\n",
       "</table>\n",
       "</div>"
      ],
      "text/plain": [
       "                                                data            RA_4mer  \\\n",
       "0  [[-0.338273286819458, -0.7951063513755798, -0....   [tensor(0.1137)]   \n",
       "1  [[1.3016526699066162, 0.5786869525909424, 0.67...  [tensor(-0.6772)]   \n",
       "2  [[-0.8226626515388489, -0.6997305750846863, -2...   [tensor(0.7432)]   \n",
       "\n",
       "              RA_TCR  4-mer  label   sample  \n",
       "0   [tensor(0.3226)]  name1      0  sample1  \n",
       "1  [tensor(-0.4265)]  name2      1  sample2  \n",
       "2  [tensor(-0.3827)]  name3      2  sample3  "
      ]
     },
     "execution_count": 4,
     "metadata": {},
     "output_type": "execute_result"
    }
   ],
   "source": [
    "def tuples_to_dataframe(tuples_list):\n",
    "    rows = []\n",
    "    for tup in tuples_list:\n",
    "        # 获取元组中除了最后一个元素之外的所有元素\n",
    "        row = list(tup[:-1])\n",
    "        rows.append(row)\n",
    "    \n",
    "    # 创建DataFrame\n",
    "    df = pd.DataFrame(rows, columns=['data', 'RA_4mer', 'RA_TCR', '4-mer', 'label', 'sample'])\n",
    "    \n",
    "    return df\n",
    "\n",
    "# 创建模拟数据\n",
    "tuples_list = [\n",
    "    (torch.randn(4, 5).tolist(), torch.randn(1,), torch.randn(1,), 'name1', 0, 'sample1', 1),\n",
    "    (torch.randn(4, 5).tolist(), torch.randn(1,), torch.randn(1,), 'name2', 1, 'sample2', 2),\n",
    "    (torch.randn(4, 5).tolist(), torch.randn(1,), torch.randn(1,), 'name3', 2, 'sample3', 3)\n",
    "]\n",
    "\n",
    "# 将元组列表转换为DataFrame\n",
    "dataframe = tuples_to_dataframe(tuples_list)\n",
    "dataframe.head()"
   ]
  },
  {
   "cell_type": "code",
   "execution_count": 2,
   "metadata": {},
   "outputs": [],
   "source": [
    "def find_topk(res, topk):\n",
    "    # 按照v1值对列表进行排序，为分组做准备\n",
    "    res_sorted = sorted(res, key=lambda x: x[5])\n",
    "    \n",
    "    # 结果列表\n",
    "    result = []\n",
    "    print(\"start find topk\")\n",
    "    # 按v1值进行分组\n",
    "    for v1, group in groupby(res_sorted, key=lambda x: x[5]):\n",
    "        # 在每个分组内按照v2值进行排序（降序），提取前topk个元素\n",
    "        topk_tuples = sorted(group, key=lambda x: float(x[6]), reverse=True)[:topk]\n",
    "        # 将提取的元组添加到结果列表中，但是只包括key和v1\n",
    "        result.extend([t for t in topk_tuples])\n",
    "    return result"
   ]
  },
  {
   "cell_type": "code",
   "execution_count": 3,
   "metadata": {},
   "outputs": [
    {
     "name": "stdout",
     "output_type": "stream",
     "text": [
      "start find topk\n"
     ]
    },
    {
     "data": {
      "text/plain": [
       "[(1, 2, 3, 4, 5, 'a', 3),\n",
       " (1, 2, 3, 4, 5, 'a', 2),\n",
       " (1, 2, 3, 4, 5, 'b', 3),\n",
       " (1, 2, 3, 4, 5, 'b', 3)]"
      ]
     },
     "execution_count": 3,
     "metadata": {},
     "output_type": "execute_result"
    }
   ],
   "source": [
    "a = [(1, 2, 3, 4, 5, 'a', 1), (1, 2, 3, 4, 5, 'a', 2), (1, 2, 3, 4, 5, 'a', 3),\\\n",
    "     (1, 2, 3, 4, 5, 'b', 3), (1, 2, 3, 4, 5, 'b', 2), (1, 2, 3, 4, 5, 'b', 3)]\n",
    "topk = 2\n",
    "find_topk(a, topk)"
   ]
  },
  {
   "cell_type": "code",
   "execution_count": null,
   "metadata": {},
   "outputs": [],
   "source": [
    "import torch\n",
    "\n",
    "a = torch.tensor([[1], [2], [3]])\n",
    "b = a.view(-1)\n",
    "print(b)\n",
    "print(a)"
   ]
  },
  {
   "cell_type": "code",
   "execution_count": null,
   "metadata": {},
   "outputs": [],
   "source": [
    "for i in range(tensor.shape[1]):\n",
    "    sub_tensor = tensor[:, i, :]\n",
    "    print(sub_tensor)"
   ]
  },
  {
   "cell_type": "code",
   "execution_count": null,
   "metadata": {},
   "outputs": [],
   "source": [
    "import torch\n",
    "\n",
    "# 假设你的列表是data\n",
    "data = [torch.tensor([1, 2, 3]), torch.tensor([4, 5, 6]), torch.tensor([7, 8, 9])]\n",
    "\n",
    "# 使用torch.stack()函数将一维张量堆叠成二维张量\n",
    "data_2d = torch.stack(data)\n",
    "\n",
    "print(data_2d[1])"
   ]
  },
  {
   "cell_type": "code",
   "execution_count": null,
   "metadata": {},
   "outputs": [],
   "source": [
    "# 假设你的DataFrame对象是df\n",
    "for index, row in df.iterrows():\n",
    "    print(row['sample'], row['value'])"
   ]
  },
  {
   "cell_type": "code",
   "execution_count": null,
   "metadata": {},
   "outputs": [],
   "source": [
    "a = df['sample']\n",
    "b = a.values\n",
    "b"
   ]
  },
  {
   "cell_type": "code",
   "execution_count": null,
   "metadata": {},
   "outputs": [],
   "source": [
    "# 使用groupby方法创建一个DataFrameGroupBy对象\n",
    "grouped_df = df.groupby('sample')\n",
    "\n",
    "# 使用get_group方法获取sample值为'A'的所有行\n",
    "group_A = grouped_df.get_group('A')\n",
    "\n",
    "group_A.head()\n"
   ]
  },
  {
   "cell_type": "code",
   "execution_count": null,
   "metadata": {},
   "outputs": [],
   "source": [
    "class A:\n",
    "    def method(self):\n",
    "        print(\"This is method from class A\")\n",
    "\n",
    "class B(A):\n",
    "    def method(self, use_super):\n",
    "        if use_super:\n",
    "            super().method()  # 调用父类的方法\n",
    "        else:\n",
    "            print(\"This is method from class B\")  # 不调用父类的方法，执行其他操作\n",
    "\n",
    "# 创建一个B类的实例\n",
    "b = B()"
   ]
  },
  {
   "cell_type": "code",
   "execution_count": null,
   "metadata": {},
   "outputs": [],
   "source": [
    "# 调用方法\n",
    "b.method(True)  # 输出: This is method from class A\n",
    "b.method(False)  # 输出: This is method from class B"
   ]
  },
  {
   "cell_type": "code",
   "execution_count": null,
   "metadata": {},
   "outputs": [],
   "source": [
    "a = \"[[1,2,3],[4,5,6]]\"\n",
    "b= eval(a)\n",
    "b"
   ]
  },
  {
   "cell_type": "code",
   "execution_count": null,
   "metadata": {},
   "outputs": [],
   "source": []
  }
 ],
 "metadata": {
  "kernelspec": {
   "display_name": "base",
   "language": "python",
   "name": "python3"
  },
  "language_info": {
   "codemirror_mode": {
    "name": "ipython",
    "version": 3
   },
   "file_extension": ".py",
   "mimetype": "text/x-python",
   "name": "python",
   "nbconvert_exporter": "python",
   "pygments_lexer": "ipython3",
   "version": "3.8.12"
  }
 },
 "nbformat": 4,
 "nbformat_minor": 2
}
